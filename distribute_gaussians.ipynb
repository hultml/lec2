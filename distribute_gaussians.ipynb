{
 "cells": [
  {
   "cell_type": "markdown",
   "metadata": {},
   "source": [
    "# Gaussians"
   ]
  },
  {
   "cell_type": "code",
   "execution_count": 2,
   "metadata": {
    "hide": true
   },
   "outputs": [],
   "source": [
    "%matplotlib inline\n",
    "import numpy as np\n",
    "import scipy as sp\n",
    "import matplotlib as mpl\n",
    "import matplotlib.cm as cm\n",
    "import matplotlib.pyplot as plt\n",
    "import pandas as pd\n",
    "from scipy.stats import bernoulli"
   ]
  },
  {
   "cell_type": "markdown",
   "metadata": {},
   "source": [
    "## The Law of Large Numbers\n",
    "\n",
    "Lets keep increasing the length of the sequence of coin flips n, and compute a running average $S_n$ of the coin-flip random variables,\n",
    "$$S_n = \\frac{1}{n} \\sum_{i=1}^{n} x_i .$$\n",
    "We plot this running mean, and notice that it converges to the mean of the distribution from which the random variables are plucked, ie the Bernoulli distribution with p=0.5. "
   ]
  },
  {
   "cell_type": "code",
   "execution_count": 3,
   "metadata": {
    "collapsed": false,
    "jupyter": {
     "outputs_hidden": false
    }
   },
   "outputs": [],
   "source": [
    "def throw_a_coin(n):\n",
    "    brv = bernoulli(0.8)\n",
    "    return brv.rvs(size=n)"
   ]
  },
  {
   "cell_type": "code",
   "execution_count": 4,
   "metadata": {},
   "outputs": [
    {
     "data": {
      "text/plain": [
       "array([1, 1, 1, 1, 1, 1, 1, 1, 1, 0, 1, 1, 1, 1, 1, 0, 0, 0, 1, 0, 1, 0,\n",
       "       1, 1, 1, 1, 1, 0, 1, 1, 1, 1, 1, 1, 1, 1, 1, 0, 1, 0, 1, 1, 1, 1,\n",
       "       0, 0, 0, 1, 0, 1, 1, 0, 1, 1, 1, 1, 1, 1, 1, 1, 0, 0, 0, 1, 1, 1,\n",
       "       1, 1, 1, 1, 1, 1, 0, 1, 1, 0, 1, 1, 1, 1, 1, 0, 1, 0, 1, 1, 1, 1,\n",
       "       1, 1, 1, 1, 0, 1, 0, 1, 1, 1, 0, 0])"
      ]
     },
     "execution_count": 4,
     "metadata": {},
     "output_type": "execute_result"
    }
   ],
   "source": [
    "throw_a_coin(100)"
   ]
  },
  {
   "cell_type": "code",
   "execution_count": 5,
   "metadata": {
    "collapsed": false,
    "jupyter": {
     "outputs_hidden": false
    }
   },
   "outputs": [],
   "source": [
    "random_flips = throw_a_coin(10000)\n",
    "running_means = np.zeros(10000)\n",
    "sequence_lengths = np.arange(1,10001,1)\n",
    "for i in sequence_lengths:\n",
    "    running_means[i-1] = np.mean(random_flips[:i])"
   ]
  },
  {
   "cell_type": "code",
   "execution_count": 6,
   "metadata": {
    "collapsed": false,
    "figure_caption": "The Law of Large Numbers: means of sequences converge to the distribution mean.",
    "figure_type": "m",
    "jupyter": {
     "outputs_hidden": false
    }
   },
   "outputs": [
    {
     "data": {
      "image/png": "[encoded data removed]",
      "text/plain": [
       "<Figure size 640x480 with 1 Axes>"
      ]
     },
     "metadata": {},
     "output_type": "display_data"
    }
   ],
   "source": [
    "plt.plot(sequence_lengths, running_means);\n",
    "plt.xscale('log')"
   ]
  },
  {
   "cell_type": "markdown",
   "metadata": {},
   "source": [
    "\n",
    "This is an example of a very important theorem in statistics, the law of large numbers, which says this:\n",
    "\n",
    "**Let $x_1,x_2,...,x_n$ be a sequence of independent, identically-distributed (IID) random variables. Suppose that $X$ has the finite mean $\\mu$. Then the average of the first n of them:**\n",
    "\n",
    "$$S_n = \\frac{1}{n} \\sum_{i=1}^{n} x_i ,$$\n",
    "\n",
    "**converges to the mean of the variables $\\mu$ as $n \\to \\infty$:**\n",
    "\n",
    "$$ S_n \\to \\mu \\, as \\, n \\to \\infty. $$"
   ]
  },
  {
   "cell_type": "markdown",
   "metadata": {},
   "source": [
    "## Frequentist Statistics\n",
    "\n",
    "Answers the question: **What is Data?** with\n",
    "\n",
    ">\"data is a **sample** from an existing **population**\"\n",
    "\n",
    "- data is stochastic, variable, in the sense that you can draw different samples\n",
    "- model the sample. The model may have parameters\n",
    "- The parameters are considered **FIXED**, and there is a **true value** in our population\n",
    "- However, we can only find parameters for our sample, since in real-life we usually only get to see one sample.\n",
    "- If we could somehow access multiple samples, these parameters would vary from sample to sample\n"
   ]
  },
  {
   "cell_type": "markdown",
   "metadata": {},
   "source": [
    "\n",
    "## Samples from a population of coin flips\n",
    "\n",
    "Having now established something about long sequences of random variables, lets turn to samples from the population of random numbers.\n",
    "\n",
    "Lets redo the experiment with coin flips that we started earlier.\n",
    "\n",
    "We'll establish some terminology at first. What we'll do different here is to do a large set of **replications** M, in each of which we did many coin flips, or **observations** N.  We'll call **a single replication a sample of observations**. Thus the number of samples is M, and the sample size is N. \n",
    "\n",
    "![](images/grid.png)\n",
    "\n",
    "These samples have been chosen from a population of size $n >> N$. If this reminds you of elections, thats intentional.\n",
    "\n",
    "We'll now calculate the mean over the observations in a sample, or sample mean, for a sample size of 10, with 20 replications. There are thus 20 sample means."
   ]
  },
  {
   "cell_type": "code",
   "execution_count": 7,
   "metadata": {
    "collapsed": false,
    "jupyter": {
     "outputs_hidden": false
    }
   },
   "outputs": [],
   "source": [
    "def make_throws(number_of_samples, sample_size):\n",
    "    start=np.zeros((number_of_samples, sample_size), dtype=int)\n",
    "    for i in range(number_of_samples):\n",
    "        start[i,:] = throw_a_coin(sample_size)\n",
    "    return np.mean(start, axis=1)"
   ]
  },
  {
   "cell_type": "code",
   "execution_count": 8,
   "metadata": {
    "collapsed": false,
    "jupyter": {
     "outputs_hidden": false
    }
   },
   "outputs": [
    {
     "data": {
      "text/plain": [
       "array([1. , 0.8, 0.7, 0.6, 1. , 0.6, 1. , 0.8, 0.8, 0.6, 0.6, 0.7, 0.8,\n",
       "       0.8, 0.8, 0.9, 0.8, 0.6, 0.8, 0.8])"
      ]
     },
     "execution_count": 8,
     "metadata": {},
     "output_type": "execute_result"
    }
   ],
   "source": [
    "make_throws(number_of_samples=20, sample_size=10)"
   ]
  },
  {
   "cell_type": "markdown",
   "metadata": {},
   "source": [
    "So this gives us 20 means"
   ]
  },
  {
   "cell_type": "markdown",
   "metadata": {},
   "source": [
    "### Increasing sample size, and number of replications"
   ]
  },
  {
   "cell_type": "markdown",
   "metadata": {},
   "source": [
    "Let us now do 1000 replications and store the 1000 sample means for each sample size from 1 to 1001 (in strides of 10) in the python list `sample_means`. That is there is a mean for size 1, size 11, size 21, and so on and so forth...100 such sets of 1000 sample means. This will take a bit of time to run."
   ]
  },
  {
   "cell_type": "code",
   "execution_count": 14,
   "metadata": {
    "collapsed": false,
    "jupyter": {
     "outputs_hidden": false
    }
   },
   "outputs": [],
   "source": [
    "sample_sizes=np.arange(1,1001,10)\n",
    "sample_means = [make_throws(number_of_samples=1000, sample_size=i) for i in sample_sizes]"
   ]
  },
  {
   "cell_type": "code",
   "execution_count": 21,
   "metadata": {},
   "outputs": [
    {
     "data": {
      "text/plain": [
       "100"
      ]
     },
     "execution_count": 21,
     "metadata": {},
     "output_type": "execute_result"
    }
   ],
   "source": [
    "len(sample_means) # should be 100"
   ]
  },
  {
   "cell_type": "code",
   "execution_count": 22,
   "metadata": {},
   "outputs": [
    {
     "data": {
      "text/plain": [
       "(1000,)"
      ]
     },
     "execution_count": 22,
     "metadata": {},
     "output_type": "execute_result"
    }
   ],
   "source": [
    "# any of these will have 1000 sample means. This one is 1000 means over 1001 coin tosses\n",
    "sample_means[99].shape  # this is the 100th "
   ]
  },
  {
   "cell_type": "code",
   "execution_count": 24,
   "metadata": {},
   "outputs": [
    {
     "data": {
      "text/plain": [
       "array([0.78102926, 0.78809284, 0.83148335, 0.82038345, 0.80625631,\n",
       "       0.81634712, 0.80827447, 0.78203835, 0.79414733, 0.80928355,\n",
       "       0.80625631, 0.80423814, 0.79313824, 0.79717457, 0.77295661,\n",
       "       0.80020182, 0.78506559, 0.80726539, 0.79313824, 0.78002018,\n",
       "       0.78002018, 0.82038345, 0.8123108 , 0.77800202, 0.79919273,\n",
       "       0.79414733, 0.79616549, 0.80726539, 0.80020182, 0.8012109 ,\n",
       "       0.79112008, 0.79212916, 0.77800202, 0.79414733, 0.80827447,\n",
       "       0.78910192, 0.80827447, 0.80423814, 0.81130172, 0.79515641,\n",
       "       0.79313824, 0.8234107 , 0.80221998, 0.80524723, 0.80322906,\n",
       "       0.79818365, 0.78405651, 0.82139253, 0.80726539, 0.78506559,\n",
       "       0.79616549, 0.80524723, 0.80524723, 0.80928355, 0.80020182,\n",
       "       0.80322906, 0.80423814, 0.81130172, 0.80020182, 0.78809284,\n",
       "       0.79616549, 0.80928355, 0.78405651, 0.80322906, 0.81331988,\n",
       "       0.8012109 , 0.80322906, 0.8012109 , 0.80221998, 0.81029263,\n",
       "       0.81634712, 0.79414733, 0.8234107 , 0.81937437, 0.80221998,\n",
       "       0.79616549, 0.81634712, 0.78607467, 0.79313824, 0.80423814,\n",
       "       0.80524723, 0.76992936, 0.8012109 , 0.8012109 , 0.81836529,\n",
       "       0.81533804, 0.82240161, 0.78607467, 0.78809284, 0.790111  ,\n",
       "       0.8123108 , 0.76992936, 0.80827447, 0.78506559, 0.79515641,\n",
       "       0.78203835, 0.80423814, 0.79717457, 0.80423814, 0.81331988,\n",
       "       0.80726539, 0.81634712, 0.79919273, 0.8234107 , 0.81432896,\n",
       "       0.81331988, 0.78304743, 0.80423814, 0.80322906, 0.78506559,\n",
       "       0.80423814, 0.8012109 , 0.8234107 , 0.78708375, 0.82643794,\n",
       "       0.77598385, 0.79515641, 0.78405651, 0.79112008, 0.79515641,\n",
       "       0.81836529, 0.79313824, 0.80221998, 0.79616549, 0.8123108 ,\n",
       "       0.790111  , 0.78405651, 0.81634712, 0.81130172, 0.83047427,\n",
       "       0.79919273, 0.81029263, 0.78809284, 0.78708375, 0.79616549,\n",
       "       0.81130172, 0.80322906, 0.81029263, 0.80221998, 0.79515641,\n",
       "       0.80020182, 0.80322906, 0.80928355, 0.80625631, 0.82240161,\n",
       "       0.79212916, 0.79212916, 0.80625631, 0.80322906, 0.81130172,\n",
       "       0.79616549, 0.79919273, 0.77497477, 0.79414733, 0.80625631,\n",
       "       0.79414733, 0.78809284, 0.81029263, 0.78708375, 0.81432896,\n",
       "       0.80625631, 0.78506559, 0.79313824, 0.79919273, 0.81533804,\n",
       "       0.81937437, 0.79414733, 0.77598385, 0.78809284, 0.79515641,\n",
       "       0.80625631, 0.8012109 , 0.79515641, 0.80423814, 0.80020182,\n",
       "       0.81331988, 0.790111  , 0.8012109 , 0.81331988, 0.8123108 ,\n",
       "       0.78809284, 0.78102926, 0.8284561 , 0.79212916, 0.82038345,\n",
       "       0.81836529, 0.81029263, 0.78002018, 0.78405651, 0.81735621,\n",
       "       0.78708375, 0.80726539, 0.8123108 , 0.80322906, 0.80928355,\n",
       "       0.80625631, 0.8012109 , 0.79112008, 0.79212916, 0.82542886,\n",
       "       0.80625631, 0.80625631, 0.81634712, 0.80827447, 0.79818365,\n",
       "       0.79818365, 0.79717457, 0.78708375, 0.80423814, 0.80423814,\n",
       "       0.81937437, 0.82240161, 0.81533804, 0.78910192, 0.81130172,\n",
       "       0.8012109 , 0.81533804, 0.79313824, 0.79212916, 0.80928355,\n",
       "       0.80625631, 0.81331988, 0.78607467, 0.80322906, 0.790111  ,\n",
       "       0.81937437, 0.76992936, 0.80020182, 0.77800202, 0.79919273,\n",
       "       0.81029263, 0.790111  , 0.78809284, 0.79313824, 0.81937437,\n",
       "       0.80322906, 0.79919273, 0.79313824, 0.80020182, 0.8123108 ,\n",
       "       0.79112008, 0.81432896, 0.79616549, 0.80322906, 0.80322906,\n",
       "       0.78809284, 0.79717457, 0.78809284, 0.79919273, 0.78405651,\n",
       "       0.83148335, 0.81634712, 0.8012109 , 0.80221998, 0.8012109 ,\n",
       "       0.79112008, 0.79717457, 0.79112008, 0.79616549, 0.80726539,\n",
       "       0.81533804, 0.79919273, 0.80827447, 0.8234107 , 0.80322906,\n",
       "       0.79818365, 0.79616549, 0.80322906, 0.78506559, 0.8234107 ,\n",
       "       0.79717457, 0.81937437, 0.78203835, 0.790111  , 0.78607467,\n",
       "       0.79717457, 0.79414733, 0.79313824, 0.78708375, 0.79616549,\n",
       "       0.80726539, 0.80020182, 0.82139253, 0.81130172, 0.82038345,\n",
       "       0.81432896, 0.82038345, 0.77396569, 0.78708375, 0.82744702,\n",
       "       0.80423814, 0.79515641, 0.80928355, 0.79414733, 0.79717457,\n",
       "       0.80726539, 0.79616549, 0.79515641, 0.80020182, 0.80322906,\n",
       "       0.79313824, 0.78102926, 0.79717457, 0.77598385, 0.78102926,\n",
       "       0.79616549, 0.79515641, 0.79313824, 0.77497477, 0.81029263,\n",
       "       0.78102926, 0.78304743, 0.79212916, 0.8123108 , 0.79919273,\n",
       "       0.81331988, 0.80423814, 0.78607467, 0.79616549, 0.78102926,\n",
       "       0.80221998, 0.81634712, 0.80928355, 0.81432896, 0.80726539,\n",
       "       0.78506559, 0.77800202, 0.8012109 , 0.79919273, 0.79919273,\n",
       "       0.78809284, 0.82240161, 0.79414733, 0.79515641, 0.80221998,\n",
       "       0.80827447, 0.80827447, 0.80524723, 0.79717457, 0.81331988,\n",
       "       0.8012109 , 0.78708375, 0.81130172, 0.80020182, 0.80423814,\n",
       "       0.79112008, 0.81029263, 0.78203835, 0.81029263, 0.81735621,\n",
       "       0.77800202, 0.79414733, 0.81735621, 0.81029263, 0.79919273,\n",
       "       0.80423814, 0.79616549, 0.790111  , 0.81432896, 0.81634712,\n",
       "       0.81130172, 0.80827447, 0.81634712, 0.8012109 , 0.80423814,\n",
       "       0.790111  , 0.79616549, 0.79515641, 0.8012109 , 0.79414733,\n",
       "       0.80020182, 0.80827447, 0.79717457, 0.79818365, 0.78607467,\n",
       "       0.80423814, 0.83249243, 0.80322906, 0.80524723, 0.77800202,\n",
       "       0.78809284, 0.79919273, 0.80726539, 0.79515641, 0.78506559,\n",
       "       0.80221998, 0.80221998, 0.78910192, 0.79616549, 0.79717457,\n",
       "       0.79818365, 0.80221998, 0.81432896, 0.80726539, 0.82139253,\n",
       "       0.80322906, 0.78708375, 0.80322906, 0.79818365, 0.80524723,\n",
       "       0.79313824, 0.80827447, 0.81533804, 0.77497477, 0.79414733,\n",
       "       0.81937437, 0.80827447, 0.79717457, 0.80827447, 0.81029263,\n",
       "       0.79919273, 0.80524723, 0.81130172, 0.81331988, 0.81937437,\n",
       "       0.78910192, 0.80625631, 0.78102926, 0.79515641, 0.79414733,\n",
       "       0.81029263, 0.79616549, 0.79212916, 0.80524723, 0.76892028,\n",
       "       0.80827447, 0.79818365, 0.81130172, 0.81836529, 0.81533804,\n",
       "       0.80625631, 0.78102926, 0.79515641, 0.77396569, 0.79919273,\n",
       "       0.81533804, 0.81331988, 0.77699294, 0.80322906, 0.80625631,\n",
       "       0.77295661, 0.78910192, 0.78607467, 0.77598385, 0.81029263,\n",
       "       0.81937437, 0.79414733, 0.80423814, 0.80221998, 0.80322906,\n",
       "       0.80020182, 0.81331988, 0.77497477, 0.79818365, 0.79112008,\n",
       "       0.81432896, 0.77295661, 0.78607467, 0.79212916, 0.81735621,\n",
       "       0.79414733, 0.82643794, 0.79515641, 0.81331988, 0.79212916,\n",
       "       0.78002018, 0.8234107 , 0.81029263, 0.78506559, 0.81937437,\n",
       "       0.80020182, 0.79616549, 0.80020182, 0.79717457, 0.79414733,\n",
       "       0.79717457, 0.79414733, 0.79616549, 0.80625631, 0.79515641,\n",
       "       0.79414733, 0.8012109 , 0.78102926, 0.79515641, 0.79919273,\n",
       "       0.82139253, 0.80827447, 0.78405651, 0.79717457, 0.790111  ,\n",
       "       0.78910192, 0.79616549, 0.80524723, 0.78809284, 0.79616549,\n",
       "       0.81331988, 0.81130172, 0.79515641, 0.8012109 , 0.79414733,\n",
       "       0.80020182, 0.80423814, 0.80726539, 0.81029263, 0.79313824,\n",
       "       0.8012109 , 0.78102926, 0.80423814, 0.78708375, 0.78405651,\n",
       "       0.79919273, 0.78304743, 0.81937437, 0.81029263, 0.79515641,\n",
       "       0.79818365, 0.79919273, 0.81533804, 0.81937437, 0.81836529,\n",
       "       0.79414733, 0.80322906, 0.79414733, 0.80625631, 0.79616549,\n",
       "       0.81432896, 0.81331988, 0.82643794, 0.81432896, 0.80322906,\n",
       "       0.790111  , 0.82441978, 0.80928355, 0.80524723, 0.78708375,\n",
       "       0.76589304, 0.82643794, 0.80827447, 0.79818365, 0.80928355,\n",
       "       0.7679112 , 0.79515641, 0.77194753, 0.78809284, 0.80524723,\n",
       "       0.78708375, 0.78506559, 0.81029263, 0.80726539, 0.81331988,\n",
       "       0.82744702, 0.8123108 , 0.84460141, 0.78506559, 0.80524723,\n",
       "       0.80524723, 0.80221998, 0.80020182, 0.79112008, 0.8234107 ,\n",
       "       0.81937437, 0.79414733, 0.8123108 , 0.80928355, 0.78708375,\n",
       "       0.81735621, 0.80928355, 0.80625631, 0.78809284, 0.81130172,\n",
       "       0.80524723, 0.80322906, 0.79313824, 0.79414733, 0.790111  ,\n",
       "       0.8012109 , 0.79818365, 0.79212916, 0.78809284, 0.76892028,\n",
       "       0.78809284, 0.79919273, 0.79515641, 0.79414733, 0.7790111 ,\n",
       "       0.80726539, 0.79616549, 0.79212916, 0.79515641, 0.80726539,\n",
       "       0.80827447, 0.82038345, 0.80827447, 0.78506559, 0.80524723,\n",
       "       0.80322906, 0.79112008, 0.76286579, 0.78002018, 0.81130172,\n",
       "       0.80221998, 0.79717457, 0.80928355, 0.79313824, 0.80726539,\n",
       "       0.81029263, 0.79919273, 0.80827447, 0.79414733, 0.81432896,\n",
       "       0.80524723, 0.81130172, 0.81331988, 0.790111  , 0.79112008,\n",
       "       0.81533804, 0.81634712, 0.78607467, 0.80322906, 0.8345106 ,\n",
       "       0.80928355, 0.78304743, 0.79919273, 0.78304743, 0.78506559,\n",
       "       0.80423814, 0.790111  , 0.80928355, 0.80020182, 0.82038345,\n",
       "       0.78304743, 0.80020182, 0.79818365, 0.78809284, 0.81331988,\n",
       "       0.80020182, 0.78203835, 0.80322906, 0.81130172, 0.78910192,\n",
       "       0.80423814, 0.81735621, 0.82946519, 0.80423814, 0.81836529,\n",
       "       0.80423814, 0.79818365, 0.80625631, 0.83047427, 0.80625631,\n",
       "       0.80625631, 0.81634712, 0.81029263, 0.8123108 , 0.81937437,\n",
       "       0.78910192, 0.80726539, 0.77598385, 0.81130172, 0.80827447,\n",
       "       0.80322906, 0.79515641, 0.78809284, 0.79717457, 0.81836529,\n",
       "       0.80322906, 0.80827447, 0.80726539, 0.81130172, 0.79616549,\n",
       "       0.79112008, 0.790111  , 0.80726539, 0.79717457, 0.81029263,\n",
       "       0.79515641, 0.79818365, 0.79818365, 0.78304743, 0.8123108 ,\n",
       "       0.78809284, 0.81735621, 0.81029263, 0.80928355, 0.79414733,\n",
       "       0.81331988, 0.80726539, 0.80928355, 0.82240161, 0.79818365,\n",
       "       0.81130172, 0.8284561 , 0.79515641, 0.79112008, 0.8123108 ,\n",
       "       0.80726539, 0.80625631, 0.81331988, 0.81029263, 0.83148335,\n",
       "       0.82139253, 0.79212916, 0.80524723, 0.80928355, 0.80726539,\n",
       "       0.8012109 , 0.82744702, 0.81634712, 0.78506559, 0.80524723,\n",
       "       0.78405651, 0.80726539, 0.78809284, 0.79212916, 0.79919273,\n",
       "       0.80827447, 0.80726539, 0.78910192, 0.80625631, 0.80020182,\n",
       "       0.79717457, 0.78304743, 0.81331988, 0.80221998, 0.80827447,\n",
       "       0.790111  , 0.81432896, 0.78910192, 0.79112008, 0.79515641,\n",
       "       0.81836529, 0.80827447, 0.79515641, 0.81331988, 0.79313824,\n",
       "       0.77497477, 0.8012109 , 0.78809284, 0.81029263, 0.81130172,\n",
       "       0.77598385, 0.80524723, 0.77497477, 0.77497477, 0.78607467,\n",
       "       0.79313824, 0.790111  , 0.78809284, 0.78304743, 0.81735621,\n",
       "       0.80423814, 0.78809284, 0.80928355, 0.790111  , 0.80625631,\n",
       "       0.79919273, 0.78304743, 0.78708375, 0.78809284, 0.80423814,\n",
       "       0.79818365, 0.80625631, 0.77699294, 0.78910192, 0.80221998,\n",
       "       0.79616549, 0.79818365, 0.80322906, 0.790111  , 0.79717457,\n",
       "       0.78506559, 0.81331988, 0.80726539, 0.80726539, 0.83047427,\n",
       "       0.81432896, 0.80221998, 0.78809284, 0.80726539, 0.78910192,\n",
       "       0.79414733, 0.78102926, 0.79313824, 0.8123108 , 0.80827447,\n",
       "       0.80221998, 0.82038345, 0.790111  , 0.78304743, 0.80928355,\n",
       "       0.79313824, 0.790111  , 0.80827447, 0.78203835, 0.80423814,\n",
       "       0.78405651, 0.79919273, 0.81432896, 0.79313824, 0.81937437,\n",
       "       0.79515641, 0.80221998, 0.80423814, 0.81130172, 0.80423814,\n",
       "       0.78809284, 0.8123108 , 0.80625631, 0.80827447, 0.81634712,\n",
       "       0.78809284, 0.8012109 , 0.79616549, 0.80524723, 0.81029263,\n",
       "       0.80726539, 0.81130172, 0.82240161, 0.79717457, 0.82744702,\n",
       "       0.79717457, 0.80827447, 0.81937437, 0.79212916, 0.79414733,\n",
       "       0.80524723, 0.78708375, 0.79818365, 0.79919273, 0.78809284,\n",
       "       0.79818365, 0.79414733, 0.80423814, 0.80827447, 0.8012109 ,\n",
       "       0.78304743, 0.80423814, 0.78809284, 0.81735621, 0.78102926,\n",
       "       0.80020182, 0.80625631, 0.81029263, 0.80221998, 0.80625631,\n",
       "       0.78506559, 0.80827447, 0.77497477, 0.80726539, 0.80524723,\n",
       "       0.78506559, 0.77699294, 0.78809284, 0.82441978, 0.80322906,\n",
       "       0.78506559, 0.79414733, 0.79313824, 0.79515641, 0.80221998,\n",
       "       0.78405651, 0.77800202, 0.80928355, 0.78506559, 0.78304743,\n",
       "       0.81432896, 0.79515641, 0.79515641, 0.80020182, 0.8012109 ,\n",
       "       0.80221998, 0.80827447, 0.81937437, 0.78708375, 0.81130172,\n",
       "       0.8012109 , 0.82441978, 0.78809284, 0.80625631, 0.80322906,\n",
       "       0.80625631, 0.82441978, 0.79414733, 0.81331988, 0.81331988,\n",
       "       0.78102926, 0.80020182, 0.80524723, 0.80625631, 0.80625631,\n",
       "       0.8123108 , 0.82542886, 0.79616549, 0.81432896, 0.81634712,\n",
       "       0.79212916, 0.78708375, 0.79212916, 0.79414733, 0.79313824,\n",
       "       0.80423814, 0.8123108 , 0.79414733, 0.78102926, 0.82240161,\n",
       "       0.79919273, 0.79212916, 0.81836529, 0.79212916, 0.7790111 ,\n",
       "       0.79818365, 0.8012109 , 0.79616549, 0.79818365, 0.79414733,\n",
       "       0.79414733, 0.81029263, 0.82441978, 0.77093845, 0.80827447,\n",
       "       0.80423814, 0.790111  , 0.82038345, 0.80020182, 0.79313824,\n",
       "       0.81029263, 0.80221998, 0.790111  , 0.80928355, 0.78607467,\n",
       "       0.790111  , 0.78910192, 0.80928355, 0.81735621, 0.81331988,\n",
       "       0.80423814, 0.80726539, 0.79818365, 0.78102926, 0.79616549,\n",
       "       0.80524723, 0.80423814, 0.78708375, 0.8012109 , 0.80625631,\n",
       "       0.80928355, 0.81634712, 0.80726539, 0.79717457, 0.80020182,\n",
       "       0.78809284, 0.8123108 , 0.80020182, 0.79818365, 0.78607467,\n",
       "       0.76488396, 0.80423814, 0.80423814, 0.81029263, 0.78405651,\n",
       "       0.78910192, 0.81029263, 0.79717457, 0.81634712, 0.80322906,\n",
       "       0.79515641, 0.79919273, 0.80928355, 0.80827447, 0.8012109 ,\n",
       "       0.79414733, 0.79212916, 0.80322906, 0.81331988, 0.80221998,\n",
       "       0.78809284, 0.78405651, 0.80524723, 0.80928355, 0.80726539,\n",
       "       0.8234107 , 0.80726539, 0.8012109 , 0.81533804, 0.78002018,\n",
       "       0.77800202, 0.78809284, 0.81634712, 0.79515641, 0.79112008,\n",
       "       0.79212916, 0.80928355, 0.79414733, 0.80322906, 0.7790111 ,\n",
       "       0.78708375, 0.82038345, 0.81029263, 0.8123108 , 0.81331988])"
      ]
     },
     "execution_count": 24,
     "metadata": {},
     "output_type": "execute_result"
    }
   ],
   "source": [
    "sample_means[99]"
   ]
  },
  {
   "cell_type": "markdown",
   "metadata": {},
   "source": [
    "Lets formalize what we are up to. Lets call the N random variables in the $m^{th}$ sample $x_{m1},x_{m2},...,x_{mN}$ and lets define the sample mean\n",
    "\n",
    "$$\\bar{x_m}(N) = \\frac{1}{N}\\, \\sum_{i=1}^{N} x_{mi} $$\n",
    "\n",
    "Now imagine the size of the sample becoming large, asymptoting to the size of an infinite or very large population (ie the sample becomes the population). Then you would expect the sample mean to approach the mean of the population distribution. This is just a restatement of the law of large numbers.\n",
    "\n",
    "Of course, if you drew many different samples of a size N (which is not infinite), the sample means $\\bar{x_1}$, $\\bar{x_2}$, etc would all be a bit different from each other. But the law of large numbers intuitively indicates that as the sample size gets very large and becomes an infinite population size, these slightly differeing means would all come together and converge to the population (or distribution) mean.\n",
    "\n",
    "To see this lets define, instead, the mean or expectation of the sample means over the set of samples or replications, at a sample size N:\n",
    "\n",
    "$$E_{\\{R\\}}(\\bar{x}) = \\frac{1}{M} \\,\\sum_{m=1}^{M} \\bar{x_m}(N) ,$$\n",
    "where $\\{R\\}$ is the set of M replications, and calculate and plot this quantity."
   ]
  },
  {
   "cell_type": "markdown",
   "metadata": {},
   "source": [
    "m"
   ]
  },
  {
   "cell_type": "markdown",
   "metadata": {},
   "source": [
    "### Q1. Since `sample_means` is a length 100 list, with each element an array of 1000 replication means, take the mean over the replications and plot them against the sample sizes"
   ]
  },
  {
   "cell_type": "code",
   "execution_count": 25,
   "metadata": {
    "collapsed": false,
    "jupyter": {
     "outputs_hidden": false
    }
   },
   "outputs": [],
   "source": [
    "# your code here\n",
    "mean_of_sample_means = [np.mean(means) for means in sample_means]"
   ]
  },
  {
   "cell_type": "code",
   "execution_count": 26,
   "metadata": {},
   "outputs": [
    {
     "data": {
      "text/plain": [
       "100"
      ]
     },
     "execution_count": 26,
     "metadata": {},
     "output_type": "execute_result"
    }
   ],
   "source": [
    "len(mean_of_sample_means) # should be 100"
   ]
  },
  {
   "cell_type": "code",
   "execution_count": 27,
   "metadata": {
    "collapsed": false,
    "figure_caption": "The mean of sample means also approaches the distribution mean.",
    "figure_type": "m",
    "jupyter": {
     "outputs_hidden": false
    }
   },
   "outputs": [
    {
     "data": {
      "text/plain": [
       "<matplotlib.lines.Line2D at 0x153ec01a0>"
      ]
     },
     "execution_count": 27,
     "metadata": {},
     "output_type": "execute_result"
    },
    {
     "data": {
      "image/png": "[encoded data removed]",
      "text/plain": [
       "<Figure size 640x480 with 1 Axes>"
      ]
     },
     "metadata": {},
     "output_type": "display_data"
    }
   ],
   "source": [
    "plt.plot(sample_sizes, mean_of_sample_means);\n",
    "plt.ylim([0.780,0.820]);\n",
    "plt.axhline(0.8, 0, 1, color=\"r\")"
   ]
  },
  {
   "cell_type": "markdown",
   "metadata": {},
   "source": [
    "Not surprisingly, the mean of the sample means converges to the distribution mean as the sample size N gets very large.\n"
   ]
  },
  {
   "cell_type": "markdown",
   "metadata": {},
   "source": [
    "## The notion of a Sampling Distribution\n",
    "\n",
    "In data science, we are always interested in understanding the world from incomplete data, in other words from a sample or a few samples of a population at large. Our experience with the world tells us that even if we are able to repeat an experiment or process, we will get more or less different answers the next time. If all of the answers were very different each time, we would never be able to make any predictions.\n",
    "\n",
    "But some kind of answers differ only a little, especially as we get to larger sample sizes. So the important question then becomes one of the distribution of these quantities from sample to sample, also known as a **sampling distribution**. \n",
    "\n",
    "Since, in the real world, we see only one sample, this distribution helps us do **inference**, or figure the uncertainty of the estimates of quantities we are interested in. If we can somehow cook up samples just somewhat different from the one we were given (this is the idea behind the bootstrap), we can calculate quantities of interest, such as the mean on each one of these samples. By seeing how these means vary from one sample to the other, we can say how typical the mean in the sample we were given is, and whats the uncertainty range of this quantity. This is why the mean of the sample means is an interesting quantity; it characterizes the **sampling distribution of the mean**, or the distribution of sample means.\n",
    "\n",
    "We can see this mathematically by writing the mean or expectation value of the sample means thus:\n",
    "\n",
    "$$E_{\\{R\\}}(N\\,\\bar{x}) = E_{\\{R\\}}(x_1 + x_2 + ... + x_N) = E_{\\{R\\}}(x_1) + E_{\\{R\\}}(x_2) + ... + E_{\\{R\\}}(x_N)$$\n",
    "\n",
    "Now in the limit of a very large number of replications, each of the expectations in the right hand side can be replaced by the population mean using the law of large numbers! Thus:\n",
    "\n",
    "\\begin{eqnarray*}\n",
    "E_{\\{R\\}}(N\\,\\bar{x}) &=& N\\, \\mu\\\\\n",
    "E(\\bar{x}) &=& \\mu\n",
    "\\end{eqnarray*}\n",
    "\n",
    "which tells us that in the limit of a large number of replications the expectation value of the sampling means converges to the population mean. This limit gives us the true sampling distribution, as opposed to what we might estimate from our finite set of replicates."
   ]
  },
  {
   "cell_type": "markdown",
   "metadata": {},
   "source": [
    "### The sampling distribution as a function of sample size\n",
    "\n",
    "We can see what the estimated sampling distribution of the mean looks like at different sample sizes."
   ]
  },
  {
   "cell_type": "code",
   "execution_count": 28,
   "metadata": {},
   "outputs": [
    {
     "data": {
      "text/plain": [
       "100"
      ]
     },
     "execution_count": 28,
     "metadata": {},
     "output_type": "execute_result"
    }
   ],
   "source": [
    "len(sample_means)"
   ]
  },
  {
   "cell_type": "markdown",
   "metadata": {},
   "source": [
    "Lets plot the distribution of the mean as a function of sample size."
   ]
  },
  {
   "cell_type": "code",
   "execution_count": 29,
   "metadata": {},
   "outputs": [
    {
     "data": {
      "text/plain": [
       "(np.int64(11), np.int64(401), np.int64(991))"
      ]
     },
     "execution_count": 29,
     "metadata": {},
     "output_type": "execute_result"
    }
   ],
   "source": [
    "sample_sizes[1], sample_sizes[40], sample_sizes[99]"
   ]
  },
  {
   "cell_type": "code",
   "execution_count": 30,
   "metadata": {},
   "outputs": [
    {
     "data": {
      "text/plain": [
       "1000"
      ]
     },
     "execution_count": 30,
     "metadata": {},
     "output_type": "execute_result"
    }
   ],
   "source": [
    "len(sample_means[40])"
   ]
  },
  {
   "cell_type": "code",
   "execution_count": 34,
   "metadata": {},
   "outputs": [
    {
     "data": {
      "image/png": "[encoded data removed]",
      "text/plain": [
       "<Figure size 640x480 with 1 Axes>"
      ]
     },
     "metadata": {},
     "output_type": "display_data"
    }
   ],
   "source": [
    "for i in [1, 40, 99]:\n",
    "    plt.scatter([sample_sizes[i]]*1000, sample_means[i], alpha=0.03);\n",
    "plt.xlim([0,1000])\n",
    "plt.ylim([0.5,1.0]);"
   ]
  },
  {
   "cell_type": "markdown",
   "metadata": {},
   "source": [
    "### Q2. In the list `std_of_sample_means` get the standard deviation over the 1000 sample means at each sample size"
   ]
  },
  {
   "cell_type": "code",
   "execution_count": 35,
   "metadata": {
    "collapsed": false,
    "jupyter": {
     "outputs_hidden": false
    }
   },
   "outputs": [],
   "source": [
    "# your code here\n",
    "std_of_sample_means = [np.std(means) for means in sample_means]"
   ]
  },
  {
   "cell_type": "code",
   "execution_count": 37,
   "metadata": {},
   "outputs": [
    {
     "data": {
      "text/plain": [
       "[<matplotlib.lines.Line2D at 0x169bc7b60>]"
      ]
     },
     "execution_count": 37,
     "metadata": {},
     "output_type": "execute_result"
    },
    {
     "data": {
      "image/png": "[encoded data removed]",
      "text/plain": [
       "<Figure size 640x480 with 1 Axes>"
      ]
     },
     "metadata": {},
     "output_type": "display_data"
    }
   ],
   "source": [
    "plt.plot(sample_sizes, std_of_sample_means)"
   ]
  },
  {
   "cell_type": "code",
   "execution_count": 39,
   "metadata": {
    "collapsed": false,
    "figure_caption": "The slope of the graph is -0.5 showing the inverse proportion to the square root of N",
    "figure_type": "m",
    "jupyter": {
     "outputs_hidden": false
    },
    "scrolled": true
   },
   "outputs": [
    {
     "data": {
      "image/png": "[encoded data removed]",
      "text/plain": [
       "<Figure size 640x480 with 1 Axes>"
      ]
     },
     "metadata": {},
     "output_type": "display_data"
    }
   ],
   "source": [
    "plt.plot(np.log10(sample_sizes), np.log10(std_of_sample_means));"
   ]
  },
  {
   "cell_type": "markdown",
   "metadata": {},
   "source": [
    "### Q3: what is the slope of this line? Why?"
   ]
  },
  {
   "cell_type": "code",
   "execution_count": 40,
   "metadata": {},
   "outputs": [
    {
     "data": {
      "text/plain": [
       "np.float64(0.8007558022199799)"
      ]
     },
     "execution_count": 40,
     "metadata": {},
     "output_type": "execute_result"
    }
   ],
   "source": [
    "mean_of_sample_means[99]"
   ]
  },
  {
   "cell_type": "code",
   "execution_count": 42,
   "metadata": {},
   "outputs": [
    {
     "data": {
      "text/plain": [
       "(array([ 2.,  2.,  6.,  4., 16., 14., 21., 32., 50., 49., 59., 96., 80.,\n",
       "        55., 89., 95., 66., 80., 61., 29., 36., 22., 16.,  8.,  6.,  4.,\n",
       "         1.,  0.,  0.,  1.]),\n",
       " array([0.76286579, 0.76559031, 0.76831483, 0.77103935, 0.77376387,\n",
       "        0.7764884 , 0.77921292, 0.78193744, 0.78466196, 0.78738648,\n",
       "        0.790111  , 0.79283552, 0.79556004, 0.79828456, 0.80100908,\n",
       "        0.8037336 , 0.80645812, 0.80918264, 0.81190716, 0.81463169,\n",
       "        0.81735621, 0.82008073, 0.82280525, 0.82552977, 0.82825429,\n",
       "        0.83097881, 0.83370333, 0.83642785, 0.83915237, 0.84187689,\n",
       "        0.84460141]),\n",
       " <BarContainer object of 30 artists>)"
      ]
     },
     "execution_count": 42,
     "metadata": {},
     "output_type": "execute_result"
    },
    {
     "data": {
      "image/png": "[encoded data removed]",
      "text/plain": [
       "<Figure size 640x480 with 1 Axes>"
      ]
     },
     "metadata": {},
     "output_type": "display_data"
    }
   ],
   "source": [
    "plt.hist(sample_means[99], bins=30);"
   ]
  },
  {
   "cell_type": "markdown",
   "metadata": {},
   "source": [
    "Let us plot again the distribution of sample means at a large sample size, $N=1000$. What distribution is this?"
   ]
  },
  {
   "cell_type": "markdown",
   "metadata": {},
   "source": [
    "This is a **Gaussian** with sample standard deviation scaling as $1/\\sqrt{N}$."
   ]
  },
  {
   "cell_type": "markdown",
   "metadata": {},
   "source": [
    "### The Gaussian Distribution\n",
    "\n",
    "The sampling distribution of the mean itself has a mean $\\mu$ and variance $s^2 = \\frac{\\sigma^2}{N}$. This distribution is called the **Gaussian** or **Normal Distribution**, and is probably the most important distribution in all of statistics.\n",
    "\n",
    "The probability density of the normal distribution is given as:\n",
    "\n",
    "$$ N(x, \\mu, \\sigma) = \\frac{1}{s\\sqrt{2\\pi}} e^{ -\\frac{(x-\\mu)^2}{2s^2} } .$$\n",
    "\n",
    "$s$ is called the **standard error**."
   ]
  },
  {
   "cell_type": "markdown",
   "metadata": {},
   "source": [
    "Lets step back and try and think about what this all means. As an example, say I have a weight-watchers' study of 1000 people, whose average weight is 150 lbs with standard deviation of 30lbs. If I was to randomly choose many samples of 100 people each, the mean weights of those samples would cluster around 150lbs with a standard error of 30/$\\sqrt{100}$ = 3lbs. Now if i gave you a different sample of 100 people with an average weight of 170lbs, this weight would be more than 6 standard errors beyond the population mean, ^[this example is motivated by the crazy bus example in Charles Whelan's excellent Naked Statistics Book] and would thus be very unlikely to be from the weight watchers group."
   ]
  },
  {
   "cell_type": "markdown",
   "metadata": {},
   "source": [
    "The expected value of the Gaussian distribution is $E[X]=\\mu$ and the variance is $Var[X]=s^2$."
   ]
  },
  {
   "cell_type": "markdown",
   "metadata": {},
   "source": [
    "## The Central Limit Theorem\n",
    "\n",
    "The reason for the distribution's importance is the Central Limit Theorem(CLT). The theorem is stated as thus, very similar to the law of large numbers:\n",
    "\n",
    "**Let $x_1,x_2,...,x_n$ be a sequence of independent, identically-distributed (IID) random variables from a random variable $X$. Suppose that $X$ has the finite mean $\\mu$ AND finite variance $\\sigma^2$. Then the average of the first n of them:**\n",
    "\n",
    "$$S_n = \\frac{1}{n} \\sum_{i=1}^{n} x_i ,$$\n",
    "\n",
    "**converges to a Gaussian Random Variable with mean $\\mu$ and variance $\\sigma^2/n$ as $n \\to \\infty$:**\n",
    "\n",
    "$$ S_n \\sim N(\\mu,\\frac{\\sigma^2}{n}) \\, as \\, n \\to \\infty. $$\n",
    "\n",
    "In other words:\n",
    "\n",
    "$$s^2 = \\frac{\\sigma^2}{N}.$$\n",
    "\n",
    "\n",
    "This is true, *regardless* of the shape of $X$, which could be binomial, poisson, or any other distribution."
   ]
  },
  {
   "cell_type": "markdown",
   "metadata": {},
   "source": [
    "Strictly speaking, under some conditions ^[REF :Lyapunov conditions], the variables $x_i$ dont have to be identically distributed, as long as $\\mu$ is the mean of the means and $\\sigma^2$ is the sum of the individual variances. This has major consequences, for the importance of this theorem.\n",
    "\n",
    "Many random variables can be thought of as having come from the sum of a large number of small and independent effects. For example human height or weight can be thought of as the sum as a large number of genetic and environmental factors, which add to increase or decrease height or weight respectively. Or think of a measurement of a height. There are lots of ways things could go wrong: frayed tapes, stretched tapes, smudged marks, bad lining up of the eye, etc. These are all independent and have no systematic error in one direction or the other.\n",
    "\n",
    "Then the sum of these factors, as long as there are a large number of them, will be distributed as a gaussian.\n",
    "\n",
    "As a rule of thumb, the CLT starts holding at $N \\sim 30$."
   ]
  }
 ],
 "metadata": {
  "celltoolbar": "Edit Metadata",
  "kernelspec": {
   "display_name": "Python 3 (ipykernel)",
   "language": "python",
   "name": "python3"
  },
  "language_info": {
   "codemirror_mode": {
    "name": "ipython",
    "version": 3
   },
   "file_extension": ".py",
   "mimetype": "text/x-python",
   "name": "python",
   "nbconvert_exporter": "python",
   "pygments_lexer": "ipython3",
   "version": "3.12.6"
  }
 },
 "nbformat": 4,
 "nbformat_minor": 4
}
